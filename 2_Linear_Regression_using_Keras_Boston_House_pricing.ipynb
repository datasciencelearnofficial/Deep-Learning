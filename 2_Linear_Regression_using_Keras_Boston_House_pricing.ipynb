{
  "nbformat": 4,
  "nbformat_minor": 0,
  "metadata": {
    "colab": {
      "name": "2 - Linear Regression using Keras - Boston House pricing.ipynb",
      "provenance": [],
      "authorship_tag": "ABX9TyPFKTU/hctIglTcAXlGmBtD"
    },
    "kernelspec": {
      "name": "python3",
      "display_name": "Python 3"
    }
  },
  "cells": [
    {
      "cell_type": "code",
      "metadata": {
        "id": "N985HrEIRUIp",
        "colab_type": "code",
        "colab": {}
      },
      "source": [
        ""
      ],
      "execution_count": null,
      "outputs": []
    }
  ]
}