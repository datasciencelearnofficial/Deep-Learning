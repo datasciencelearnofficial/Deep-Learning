{
  "nbformat": 4,
  "nbformat_minor": 0,
  "metadata": {
    "colab": {
      "name": "2 - Linear Regression using Keras - Boston House pricing.ipynb",
      "provenance": [],
      "collapsed_sections": [],
      "authorship_tag": "ABX9TyOwjVLPxrcGXeg5Oez1Mei+"
    },
    "kernelspec": {
      "name": "python3",
      "display_name": "Python 3"
    }
  },
  "cells": [
    {
      "cell_type": "markdown",
      "metadata": {
        "id": "CmP2zANBSWME",
        "colab_type": "text"
      },
      "source": [
        "# Linear Regression in Keras - The Boston Housing Price dataset"
      ]
    },
    {
      "cell_type": "markdown",
      "metadata": {
        "id": "TKi_ju3PUeMM",
        "colab_type": "text"
      },
      "source": [
        "### 1. Loading the Boston housing dataset\n",
        "\n",
        "- Predict the median price of homes in a given Boston suburb in the mid-1970s, given data points about the suburb at the time, such as the crime rate, the local property tax rate, and so on. \n",
        "\n",
        "\n",
        "- The dataset has relatively few data points: only 506, split between 404 training samples and 102 test samples. \n",
        "\n",
        "\n",
        "- And each feature in the input data (for example, the crime rate) has a different scale. \n",
        "  - For instance, some values are proportions, which take values between 0 and 1; \n",
        "  - Others take values between 1 and 12, others between 0 and 100, and so on."
      ]
    },
    {
      "cell_type": "code",
      "metadata": {
        "id": "N985HrEIRUIp",
        "colab_type": "code",
        "colab": {}
      },
      "source": [
        "import numpy as np\n",
        "\n",
        "from tensorflow.keras.datasets import boston_housing"
      ],
      "execution_count": 41,
      "outputs": []
    },
    {
      "cell_type": "code",
      "metadata": {
        "id": "XpTmpcL8R0xj",
        "colab_type": "code",
        "colab": {
          "base_uri": "https://localhost:8080/",
          "height": 51
        },
        "outputId": "95f160c7-4dfe-43f5-bca5-2688713cf989"
      },
      "source": [
        "(train_data, train_targets), (test_data, test_targets) = boston_housing.load_data()"
      ],
      "execution_count": 2,
      "outputs": [
        {
          "output_type": "stream",
          "text": [
            "Downloading data from https://storage.googleapis.com/tensorflow/tf-keras-datasets/boston_housing.npz\n",
            "57344/57026 [==============================] - 0s 0us/step\n"
          ],
          "name": "stdout"
        }
      ]
    },
    {
      "cell_type": "code",
      "metadata": {
        "id": "fDSAud7hR4pf",
        "colab_type": "code",
        "colab": {
          "base_uri": "https://localhost:8080/",
          "height": 34
        },
        "outputId": "d3b2cb43-598b-40ac-e0b7-02d25b66e1c8"
      },
      "source": [
        "train_data.shape"
      ],
      "execution_count": 5,
      "outputs": [
        {
          "output_type": "execute_result",
          "data": {
            "text/plain": [
              "(404, 13)"
            ]
          },
          "metadata": {
            "tags": []
          },
          "execution_count": 5
        }
      ]
    },
    {
      "cell_type": "code",
      "metadata": {
        "id": "GCXAwLnuSBKU",
        "colab_type": "code",
        "colab": {
          "base_uri": "https://localhost:8080/",
          "height": 34
        },
        "outputId": "8d9bf205-ea03-4442-e8e5-8e3cdbe5c0a7"
      },
      "source": [
        "test_data.shape"
      ],
      "execution_count": 7,
      "outputs": [
        {
          "output_type": "execute_result",
          "data": {
            "text/plain": [
              "(102, 13)"
            ]
          },
          "metadata": {
            "tags": []
          },
          "execution_count": 7
        }
      ]
    },
    {
      "cell_type": "markdown",
      "metadata": {
        "id": "0l64eG2wgadG",
        "colab_type": "text"
      },
      "source": [
        "### 2. Preparing the Data"
      ]
    },
    {
      "cell_type": "code",
      "metadata": {
        "id": "4z1AuY2Qgcgi",
        "colab_type": "code",
        "colab": {}
      },
      "source": [
        "from sklearn.preprocessing import StandardScaler"
      ],
      "execution_count": 8,
      "outputs": []
    },
    {
      "cell_type": "code",
      "metadata": {
        "id": "jw91V0G6hB5E",
        "colab_type": "code",
        "colab": {}
      },
      "source": [
        "sc = StandardScaler()\n",
        "X_train = sc.fit_transform(train_data)\n",
        "X_test = sc.transform(test_data)"
      ],
      "execution_count": 10,
      "outputs": []
    },
    {
      "cell_type": "markdown",
      "metadata": {
        "id": "lhE0S7TjiLza",
        "colab_type": "text"
      },
      "source": [
        "### 3. Build the Network"
      ]
    },
    {
      "cell_type": "code",
      "metadata": {
        "colab_type": "code",
        "id": "kXgKeUmhiN3a",
        "colab": {}
      },
      "source": [
        "# Importing the Keras libraries and packages\n",
        "from tensorflow.keras.models import Sequential\n",
        "from tensorflow.keras.layers import Dense"
      ],
      "execution_count": 12,
      "outputs": []
    },
    {
      "cell_type": "code",
      "metadata": {
        "id": "IlvCVXithkZQ",
        "colab_type": "code",
        "colab": {}
      },
      "source": [
        "# Initialising the ANN\n",
        "classifier = Sequential()"
      ],
      "execution_count": 29,
      "outputs": []
    },
    {
      "cell_type": "code",
      "metadata": {
        "id": "NwJNSF2iihL3",
        "colab_type": "code",
        "colab": {}
      },
      "source": [
        "# Adding the input layer and the first hidden layer\n",
        "classifier.add(Dense(64, activation='relu', input_shape=(train_data.shape[1],)))"
      ],
      "execution_count": 30,
      "outputs": []
    },
    {
      "cell_type": "code",
      "metadata": {
        "id": "mHQQaunfi20v",
        "colab_type": "code",
        "colab": {}
      },
      "source": [
        "# Adding the second hidden layer\n",
        "classifier.add(Dense(64, activation='relu'))"
      ],
      "execution_count": 31,
      "outputs": []
    },
    {
      "cell_type": "code",
      "metadata": {
        "id": "IeYPUgjSjKvX",
        "colab_type": "code",
        "colab": {}
      },
      "source": [
        "# Adding the output layer\n",
        "classifier.add(Dense(1))"
      ],
      "execution_count": 32,
      "outputs": []
    },
    {
      "cell_type": "code",
      "metadata": {
        "id": "-IP_DJPvjXcG",
        "colab_type": "code",
        "colab": {
          "base_uri": "https://localhost:8080/",
          "height": 255
        },
        "outputId": "4155bf3d-c430-40ac-b219-20804e75b889"
      },
      "source": [
        "classifier.summary()"
      ],
      "execution_count": 33,
      "outputs": [
        {
          "output_type": "stream",
          "text": [
            "Model: \"sequential_3\"\n",
            "_________________________________________________________________\n",
            "Layer (type)                 Output Shape              Param #   \n",
            "=================================================================\n",
            "dense_11 (Dense)             (None, 64)                896       \n",
            "_________________________________________________________________\n",
            "dense_12 (Dense)             (None, 64)                4160      \n",
            "_________________________________________________________________\n",
            "dense_13 (Dense)             (None, 1)                 65        \n",
            "=================================================================\n",
            "Total params: 5,121\n",
            "Trainable params: 5,121\n",
            "Non-trainable params: 0\n",
            "_________________________________________________________________\n"
          ],
          "name": "stdout"
        }
      ]
    },
    {
      "cell_type": "code",
      "metadata": {
        "id": "XNox5Uo8jOex",
        "colab_type": "code",
        "colab": {}
      },
      "source": [
        "# Compiling the ANN\n",
        "classifier.compile(optimizer='adam', loss='mse', metrics=['mae'])"
      ],
      "execution_count": 34,
      "outputs": []
    },
    {
      "cell_type": "code",
      "metadata": {
        "id": "FIXkdIcmjn1p",
        "colab_type": "code",
        "colab": {
          "base_uri": "https://localhost:8080/",
          "height": 1000
        },
        "outputId": "54e759f7-1959-40f5-a20b-3ff2de54f945"
      },
      "source": [
        "# Fitting the ANN to the Training set\n",
        "classifier.fit(X_train, train_targets, epochs=80, batch_size=16)"
      ],
      "execution_count": 36,
      "outputs": [
        {
          "output_type": "stream",
          "text": [
            "Epoch 1/80\n",
            "26/26 [==============================] - 0s 1ms/step - loss: 537.6892 - mae: 21.3336\n",
            "Epoch 2/80\n",
            "26/26 [==============================] - 0s 1ms/step - loss: 417.8469 - mae: 18.3496\n",
            "Epoch 3/80\n",
            "26/26 [==============================] - 0s 1ms/step - loss: 250.1161 - mae: 13.3698\n",
            "Epoch 4/80\n",
            "26/26 [==============================] - 0s 1ms/step - loss: 111.0806 - mae: 8.2366\n",
            "Epoch 5/80\n",
            "26/26 [==============================] - 0s 1ms/step - loss: 66.4753 - mae: 6.1186\n",
            "Epoch 6/80\n",
            "26/26 [==============================] - 0s 1ms/step - loss: 43.3725 - mae: 4.8488\n",
            "Epoch 7/80\n",
            "26/26 [==============================] - 0s 2ms/step - loss: 31.0730 - mae: 4.0292\n",
            "Epoch 8/80\n",
            "26/26 [==============================] - 0s 1ms/step - loss: 25.3367 - mae: 3.6138\n",
            "Epoch 9/80\n",
            "26/26 [==============================] - 0s 1ms/step - loss: 22.2044 - mae: 3.3528\n",
            "Epoch 10/80\n",
            "26/26 [==============================] - 0s 2ms/step - loss: 19.7894 - mae: 3.2072\n",
            "Epoch 11/80\n",
            "26/26 [==============================] - 0s 1ms/step - loss: 18.6525 - mae: 3.0923\n",
            "Epoch 12/80\n",
            "26/26 [==============================] - 0s 1ms/step - loss: 16.9080 - mae: 2.9209\n",
            "Epoch 13/80\n",
            "26/26 [==============================] - 0s 1ms/step - loss: 15.9029 - mae: 2.8060\n",
            "Epoch 14/80\n",
            "26/26 [==============================] - 0s 1ms/step - loss: 15.2022 - mae: 2.7683\n",
            "Epoch 15/80\n",
            "26/26 [==============================] - 0s 1ms/step - loss: 14.3924 - mae: 2.6633\n",
            "Epoch 16/80\n",
            "26/26 [==============================] - 0s 1ms/step - loss: 13.8940 - mae: 2.6336\n",
            "Epoch 17/80\n",
            "26/26 [==============================] - 0s 1ms/step - loss: 13.0320 - mae: 2.5444\n",
            "Epoch 18/80\n",
            "26/26 [==============================] - 0s 1ms/step - loss: 12.5531 - mae: 2.5115\n",
            "Epoch 19/80\n",
            "26/26 [==============================] - 0s 1ms/step - loss: 12.2037 - mae: 2.4618\n",
            "Epoch 20/80\n",
            "26/26 [==============================] - 0s 1ms/step - loss: 11.9436 - mae: 2.4501\n",
            "Epoch 21/80\n",
            "26/26 [==============================] - 0s 1ms/step - loss: 11.4580 - mae: 2.3995\n",
            "Epoch 22/80\n",
            "26/26 [==============================] - 0s 1ms/step - loss: 11.2667 - mae: 2.4105\n",
            "Epoch 23/80\n",
            "26/26 [==============================] - 0s 1ms/step - loss: 11.1013 - mae: 2.3908\n",
            "Epoch 24/80\n",
            "26/26 [==============================] - 0s 1ms/step - loss: 10.6931 - mae: 2.3284\n",
            "Epoch 25/80\n",
            "26/26 [==============================] - 0s 1ms/step - loss: 10.5501 - mae: 2.3477\n",
            "Epoch 26/80\n",
            "26/26 [==============================] - 0s 1ms/step - loss: 10.5111 - mae: 2.3052\n",
            "Epoch 27/80\n",
            "26/26 [==============================] - 0s 1ms/step - loss: 10.5515 - mae: 2.3073\n",
            "Epoch 28/80\n",
            "26/26 [==============================] - 0s 1ms/step - loss: 9.9911 - mae: 2.2456\n",
            "Epoch 29/80\n",
            "26/26 [==============================] - 0s 1ms/step - loss: 9.8034 - mae: 2.2482\n",
            "Epoch 30/80\n",
            "26/26 [==============================] - 0s 1ms/step - loss: 9.7206 - mae: 2.2580\n",
            "Epoch 31/80\n",
            "26/26 [==============================] - 0s 1ms/step - loss: 9.5627 - mae: 2.2023\n",
            "Epoch 32/80\n",
            "26/26 [==============================] - 0s 1ms/step - loss: 9.4697 - mae: 2.2037\n",
            "Epoch 33/80\n",
            "26/26 [==============================] - 0s 1ms/step - loss: 9.3923 - mae: 2.2224\n",
            "Epoch 34/80\n",
            "26/26 [==============================] - 0s 1ms/step - loss: 9.0657 - mae: 2.1766\n",
            "Epoch 35/80\n",
            "26/26 [==============================] - 0s 1ms/step - loss: 9.0150 - mae: 2.1720\n",
            "Epoch 36/80\n",
            "26/26 [==============================] - 0s 1ms/step - loss: 8.9212 - mae: 2.1515\n",
            "Epoch 37/80\n",
            "26/26 [==============================] - 0s 1ms/step - loss: 8.9121 - mae: 2.1390\n",
            "Epoch 38/80\n",
            "26/26 [==============================] - 0s 1ms/step - loss: 8.7619 - mae: 2.1196\n",
            "Epoch 39/80\n",
            "26/26 [==============================] - 0s 1ms/step - loss: 8.7127 - mae: 2.1468\n",
            "Epoch 40/80\n",
            "26/26 [==============================] - 0s 1ms/step - loss: 8.8069 - mae: 2.1313\n",
            "Epoch 41/80\n",
            "26/26 [==============================] - 0s 1ms/step - loss: 8.5586 - mae: 2.1205\n",
            "Epoch 42/80\n",
            "26/26 [==============================] - 0s 1ms/step - loss: 8.3425 - mae: 2.0704\n",
            "Epoch 43/80\n",
            "26/26 [==============================] - 0s 1ms/step - loss: 8.5000 - mae: 2.1101\n",
            "Epoch 44/80\n",
            "26/26 [==============================] - 0s 1ms/step - loss: 8.1995 - mae: 2.0592\n",
            "Epoch 45/80\n",
            "26/26 [==============================] - 0s 1ms/step - loss: 8.1609 - mae: 2.0405\n",
            "Epoch 46/80\n",
            "26/26 [==============================] - 0s 1ms/step - loss: 8.2886 - mae: 2.0329\n",
            "Epoch 47/80\n",
            "26/26 [==============================] - 0s 1ms/step - loss: 7.9935 - mae: 2.0210\n",
            "Epoch 48/80\n",
            "26/26 [==============================] - 0s 1ms/step - loss: 7.9138 - mae: 2.0339\n",
            "Epoch 49/80\n",
            "26/26 [==============================] - 0s 1ms/step - loss: 8.0605 - mae: 2.0291\n",
            "Epoch 50/80\n",
            "26/26 [==============================] - 0s 1ms/step - loss: 7.7065 - mae: 1.9996\n",
            "Epoch 51/80\n",
            "26/26 [==============================] - 0s 1ms/step - loss: 7.7757 - mae: 1.9895\n",
            "Epoch 52/80\n",
            "26/26 [==============================] - 0s 1ms/step - loss: 7.7223 - mae: 1.9779\n",
            "Epoch 53/80\n",
            "26/26 [==============================] - 0s 1ms/step - loss: 7.5960 - mae: 1.9826\n",
            "Epoch 54/80\n",
            "26/26 [==============================] - 0s 1ms/step - loss: 7.5993 - mae: 1.9723\n",
            "Epoch 55/80\n",
            "26/26 [==============================] - 0s 1ms/step - loss: 7.5205 - mae: 1.9599\n",
            "Epoch 56/80\n",
            "26/26 [==============================] - 0s 1ms/step - loss: 7.4986 - mae: 1.9689\n",
            "Epoch 57/80\n",
            "26/26 [==============================] - 0s 1ms/step - loss: 7.3082 - mae: 1.9267\n",
            "Epoch 58/80\n",
            "26/26 [==============================] - 0s 1ms/step - loss: 7.4838 - mae: 1.9807\n",
            "Epoch 59/80\n",
            "26/26 [==============================] - 0s 2ms/step - loss: 7.5286 - mae: 1.9591\n",
            "Epoch 60/80\n",
            "26/26 [==============================] - 0s 1ms/step - loss: 7.1930 - mae: 1.9114\n",
            "Epoch 61/80\n",
            "26/26 [==============================] - 0s 1ms/step - loss: 7.2098 - mae: 1.9162\n",
            "Epoch 62/80\n",
            "26/26 [==============================] - 0s 1ms/step - loss: 7.2327 - mae: 1.9216\n",
            "Epoch 63/80\n",
            "26/26 [==============================] - 0s 1ms/step - loss: 7.0098 - mae: 1.8955\n",
            "Epoch 64/80\n",
            "26/26 [==============================] - 0s 1ms/step - loss: 6.8435 - mae: 1.8868\n",
            "Epoch 65/80\n",
            "26/26 [==============================] - 0s 1ms/step - loss: 6.7816 - mae: 1.8649\n",
            "Epoch 66/80\n",
            "26/26 [==============================] - 0s 1ms/step - loss: 6.8569 - mae: 1.8589\n",
            "Epoch 67/80\n",
            "26/26 [==============================] - 0s 1ms/step - loss: 6.8792 - mae: 1.8791\n",
            "Epoch 68/80\n",
            "26/26 [==============================] - 0s 1ms/step - loss: 6.8158 - mae: 1.8567\n",
            "Epoch 69/80\n",
            "26/26 [==============================] - 0s 1ms/step - loss: 6.5998 - mae: 1.8379\n",
            "Epoch 70/80\n",
            "26/26 [==============================] - 0s 1ms/step - loss: 6.5604 - mae: 1.8457\n",
            "Epoch 71/80\n",
            "26/26 [==============================] - 0s 1ms/step - loss: 6.5792 - mae: 1.8502\n",
            "Epoch 72/80\n",
            "26/26 [==============================] - 0s 2ms/step - loss: 6.4732 - mae: 1.8408\n",
            "Epoch 73/80\n",
            "26/26 [==============================] - 0s 2ms/step - loss: 6.4675 - mae: 1.8151\n",
            "Epoch 74/80\n",
            "26/26 [==============================] - 0s 1ms/step - loss: 6.5044 - mae: 1.8337\n",
            "Epoch 75/80\n",
            "26/26 [==============================] - 0s 1ms/step - loss: 6.3500 - mae: 1.7990\n",
            "Epoch 76/80\n",
            "26/26 [==============================] - 0s 1ms/step - loss: 6.3276 - mae: 1.8023\n",
            "Epoch 77/80\n",
            "26/26 [==============================] - 0s 1ms/step - loss: 6.4009 - mae: 1.8157\n",
            "Epoch 78/80\n",
            "26/26 [==============================] - 0s 1ms/step - loss: 6.0906 - mae: 1.7697\n",
            "Epoch 79/80\n",
            "26/26 [==============================] - 0s 1ms/step - loss: 6.0653 - mae: 1.7509\n",
            "Epoch 80/80\n",
            "26/26 [==============================] - 0s 1ms/step - loss: 6.0936 - mae: 1.7809\n"
          ],
          "name": "stdout"
        },
        {
          "output_type": "execute_result",
          "data": {
            "text/plain": [
              "<tensorflow.python.keras.callbacks.History at 0x7f8eec9c9710>"
            ]
          },
          "metadata": {
            "tags": []
          },
          "execution_count": 36
        }
      ]
    },
    {
      "cell_type": "markdown",
      "metadata": {
        "id": "sLjZPAC8lVAg",
        "colab_type": "text"
      },
      "source": [
        "### 4. Evaluate the Model on the Test data"
      ]
    },
    {
      "cell_type": "code",
      "metadata": {
        "id": "8GrOy0Tvlj0V",
        "colab_type": "code",
        "colab": {
          "base_uri": "https://localhost:8080/",
          "height": 34
        },
        "outputId": "cda25873-5935-487a-c511-c3c13c9bd8cf"
      },
      "source": [
        "test_mse_score, test_mae_score = classifier.evaluate(X_test, test_targets)"
      ],
      "execution_count": 38,
      "outputs": [
        {
          "output_type": "stream",
          "text": [
            "4/4 [==============================] - 0s 2ms/step - loss: 18.9923 - mae: 2.6700\n"
          ],
          "name": "stdout"
        }
      ]
    },
    {
      "cell_type": "code",
      "metadata": {
        "id": "AgSqpS4Xl31a",
        "colab_type": "code",
        "colab": {
          "base_uri": "https://localhost:8080/",
          "height": 68
        },
        "outputId": "39fce933-e80e-4181-e2e4-ef6cc84b1a2a"
      },
      "source": [
        "print('Mean Absolute Error:', test_mae_score)\n",
        "print('Mean Squared Error:', test_mse_score)\n",
        "print('Root Mean Squared Error:', np.sqrt(test_mse_score))"
      ],
      "execution_count": 43,
      "outputs": [
        {
          "output_type": "stream",
          "text": [
            "Mean Absolute Error: 2.669980525970459\n",
            "Mean Squared Error: 18.992319107055664\n",
            "Root Mean Squared Error: 4.358017795633201\n"
          ],
          "name": "stdout"
        }
      ]
    }
  ]
}